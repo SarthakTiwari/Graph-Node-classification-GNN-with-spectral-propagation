{
  "nbformat": 4,
  "nbformat_minor": 0,
  "metadata": {
    "colab": {
      "name": "Node_Classification_using_Graph_Convolution_Network (1).ipynb",
      "provenance": [],
      "collapsed_sections": []
    },
    "kernelspec": {
      "name": "python3",
      "display_name": "Python 3"
    }
  },
  "cells": [
    {
      "cell_type": "code",
      "metadata": {
        "id": "AWIID9oOQ8yv",
        "colab_type": "code",
        "colab": {
          "base_uri": "https://localhost:8080/",
          "height": 34
        },
        "outputId": "834a9e4e-ef04-469b-fcb5-3bcaba52e2f4"
      },
      "source": [
        "from google.colab import drive\n",
        "drive.mount('/content/drive')"
      ],
      "execution_count": null,
      "outputs": [
        {
          "output_type": "stream",
          "text": [
            "Drive already mounted at /content/drive; to attempt to forcibly remount, call drive.mount(\"/content/drive\", force_remount=True).\n"
          ],
          "name": "stdout"
        }
      ]
    },
    {
      "cell_type": "markdown",
      "metadata": {
        "id": "c3We6VO0v0Yn",
        "colab_type": "text"
      },
      "source": [
        "Dependencies"
      ]
    },
    {
      "cell_type": "code",
      "metadata": {
        "id": "s-VbV4mvXGhf",
        "colab_type": "code",
        "colab": {}
      },
      "source": [
        "import pandas as pd\n",
        "import numpy as np\n",
        "import os\n",
        "import tensorflow as tf\n",
        "from tensorflow import keras"
      ],
      "execution_count": null,
      "outputs": []
    },
    {
      "cell_type": "markdown",
      "metadata": {
        "id": "vG6Z-l-fv50K",
        "colab_type": "text"
      },
      "source": [
        "Loading Cora Dataset"
      ]
    },
    {
      "cell_type": "code",
      "metadata": {
        "id": "4aKQ57MNWItP",
        "colab_type": "code",
        "colab": {}
      },
      "source": [
        "\n",
        "os.getcwd()\n",
        "os.chdir(r\"drive/My Drive/cora dataset\")"
      ],
      "execution_count": null,
      "outputs": []
    },
    {
      "cell_type": "code",
      "metadata": {
        "id": "jGjkw-RvW2W8",
        "colab_type": "code",
        "colab": {}
      },
      "source": [
        "cites = pd.read_csv('cora.cites.txt',delimiter=\"\\t\",header=None,names=[\"ID of cited paper\",\"ID of citing paper\"] )\n",
        "cites=np.array(cites.values.tolist())"
      ],
      "execution_count": null,
      "outputs": []
    },
    {
      "cell_type": "markdown",
      "metadata": {
        "id": "vpeYlF8rwA_K",
        "colab_type": "text"
      },
      "source": [
        "Creating paper ID dictionary"
      ]
    },
    {
      "cell_type": "code",
      "metadata": {
        "id": "n9D0EI5FAuf2",
        "colab_type": "code",
        "colab": {}
      },
      "source": [
        "idx = list(set(cites.flatten()))\n",
        "idx_map = {j: i for i, j in enumerate(idx)}"
      ],
      "execution_count": null,
      "outputs": []
    },
    {
      "cell_type": "code",
      "metadata": {
        "id": "Mr-pfTfUAzGk",
        "colab_type": "code",
        "colab": {}
      },
      "source": [
        "edges = np.array(list(map(idx_map.get, cites.flatten()))).reshape(cites.shape)"
      ],
      "execution_count": null,
      "outputs": []
    },
    {
      "cell_type": "markdown",
      "metadata": {
        "id": "Mr05AeubwKWu",
        "colab_type": "text"
      },
      "source": [
        "Creating Graph adjacency matrix from adjency list"
      ]
    },
    {
      "cell_type": "code",
      "metadata": {
        "id": "XtuKrcBUZSOd",
        "colab_type": "code",
        "colab": {}
      },
      "source": [
        "\n",
        "\n",
        "\n",
        "n = len(edges)\n",
        "m=len(idx)\n",
        "adj_matrix =np.zeros((m,m),dtype = int)\n",
        "    \n",
        "\n",
        "for i in range(n):\n",
        "    adj_matrix[edges[i][0],edges[i][1]] = 1\n"
      ],
      "execution_count": null,
      "outputs": []
    },
    {
      "cell_type": "code",
      "metadata": {
        "id": "f8S3-B_ivYcg",
        "colab_type": "code",
        "colab": {}
      },
      "source": [
        "adj_matrix.shape"
      ],
      "execution_count": null,
      "outputs": []
    },
    {
      "cell_type": "code",
      "metadata": {
        "id": "7rdlHMizXPD-",
        "colab_type": "code",
        "colab": {}
      },
      "source": [
        "content = pd.read_csv('cora.content.txt',delimiter=\"\\t\",header=None)\n",
        "content.set_index(content.columns[0],inplace=True)\n",
        "content.index=np.array(list(map(idx_map.get, content.index)))\n"
      ],
      "execution_count": null,
      "outputs": []
    },
    {
      "cell_type": "markdown",
      "metadata": {
        "id": "r5z4-QFhwaMt",
        "colab_type": "text"
      },
      "source": [
        "One hot encoding Features"
      ]
    },
    {
      "cell_type": "code",
      "metadata": {
        "id": "kQu5VxFhKwb7",
        "colab_type": "code",
        "colab": {}
      },
      "source": [
        "one_hot = pd.get_dummies(content[1434])\n",
        "\n",
        "content = content.drop(1434,axis = 1)"
      ],
      "execution_count": null,
      "outputs": []
    },
    {
      "cell_type": "markdown",
      "metadata": {
        "id": "BR_wpniDw5eH",
        "colab_type": "text"
      },
      "source": [
        "custom Graph convolutional layer with spectral propogation rule"
      ]
    },
    {
      "cell_type": "code",
      "metadata": {
        "id": "8aVeWuPRQX5G",
        "colab_type": "code",
        "colab": {}
      },
      "source": [
        "\n",
        "\n",
        "class SpectralRule(keras.Model):\n",
        "\n",
        "    def __init__(self,A, in_units, out_units,activation):\n",
        "        super(SpectralRule,self).__init__()\n",
        "\n",
        "        I = np.eye(*A.shape)\n",
        "        A_hat = A.copy() + I\n",
        "        D = np.sum(A_hat, axis=0)\n",
        "        D_inv = D**-0.5\n",
        "        D_inv = np.diag(D_inv)\n",
        "        A_hat = D_inv * A_hat * D_inv\n",
        "\n",
        "        self.in_units, self.out_units = in_units, out_units\n",
        "        self.activation = keras.layers.Activation(activation)\n",
        "        w_init = tf.random_normal_initializer()\n",
        "\n",
        "        self.A_hat = tf.cast(A_hat, tf.float32)\n",
        "        self.w = tf.Variable(initial_value=w_init(shape=(in_units, out_units), dtype=\"float32\"),trainable=True)\n",
        "\n",
        "    def call(self, X):\n",
        "        aggregate = tf.matmul(self.A_hat, tf.cast(X, tf.float32))\n",
        "        propagate = self.activation(tf.matmul(aggregate, self.w))\n",
        "        return propagate\n"
      ],
      "execution_count": null,
      "outputs": []
    },
    {
      "cell_type": "markdown",
      "metadata": {
        "id": "9Qif62EJxI_a",
        "colab_type": "text"
      },
      "source": [
        "Costom model with 2 Garph convolution layer and a softmax layer for classification"
      ]
    },
    {
      "cell_type": "code",
      "metadata": {
        "id": "EQwiNem2UoQ6",
        "colab_type": "code",
        "colab": {}
      },
      "source": [
        "\n",
        "class MyModel(tf.keras.Model):\n",
        "\n",
        "  def __init__(self,nfeat,nhid,nclass):\n",
        "    super(MyModel, self).__init__()\n",
        "    self.gc1 = SpectralRule(adj_matrix,nfeat,nhid, activation=tf.nn.tanh)\n",
        "    self.gc2 = SpectralRule(adj_matrix,nhid,nclass, activation=tf.nn.relu)\n",
        "    self.dropout=tf.keras.layers.Dropout(0.2)\n",
        "  def call(self, inputs,training=False):\n",
        "    x = self.gc1(inputs)\n",
        "    x = self.dropout(x, training=training)\n",
        "    x = self.gc2(x)\n",
        "    return tf.nn.softmax(x)\n",
        "\n",
        "\n",
        "\n"
      ],
      "execution_count": null,
      "outputs": []
    },
    {
      "cell_type": "markdown",
      "metadata": {
        "id": "L17u7wvVxdq7",
        "colab_type": "text"
      },
      "source": [
        "calling model class"
      ]
    },
    {
      "cell_type": "code",
      "metadata": {
        "id": "kLymZpNW1g6G",
        "colab_type": "code",
        "colab": {}
      },
      "source": [
        "model=MyModel(1433,256,7)"
      ],
      "execution_count": null,
      "outputs": []
    },
    {
      "cell_type": "markdown",
      "metadata": {
        "id": "J-SU2R6ixkxK",
        "colab_type": "text"
      },
      "source": [
        "Tinkered with optimizers\n",
        "best :-Adam"
      ]
    },
    {
      "cell_type": "code",
      "metadata": {
        "id": "TB7RLvBDi1XQ",
        "colab_type": "code",
        "colab": {}
      },
      "source": [
        "\n",
        "opt = keras.optimizers.Adam(learning_rate=0.01)\n",
        "model.compile(loss='categorical_crossentropy', optimizer=opt)"
      ],
      "execution_count": null,
      "outputs": []
    },
    {
      "cell_type": "code",
      "metadata": {
        "id": "APVutLhli1mO",
        "colab_type": "code",
        "colab": {
          "base_uri": "https://localhost:8080/",
          "height": 1000
        },
        "outputId": "a6b7432c-f6f6-423d-d5d5-b12cf2a48f84"
      },
      "source": [
        "history=model.fit(content, one_hot,batch_size=content.shape[0], epochs=50, shuffle=False, verbose=1)"
      ],
      "execution_count": null,
      "outputs": [
        {
          "output_type": "stream",
          "text": [
            "Epoch 1/50\n",
            "1/1 [==============================] - 0s 6ms/step - loss: 1.9463\n",
            "Epoch 2/50\n",
            "1/1 [==============================] - 0s 3ms/step - loss: 1.8482\n",
            "Epoch 3/50\n",
            "1/1 [==============================] - 0s 1ms/step - loss: 1.7271\n",
            "Epoch 4/50\n",
            "1/1 [==============================] - 0s 1ms/step - loss: 1.6131\n",
            "Epoch 5/50\n",
            "1/1 [==============================] - 0s 1ms/step - loss: 1.5087\n",
            "Epoch 6/50\n",
            "1/1 [==============================] - 0s 1ms/step - loss: 1.4099\n",
            "Epoch 7/50\n",
            "1/1 [==============================] - 0s 1ms/step - loss: 1.3170\n",
            "Epoch 8/50\n",
            "1/1 [==============================] - 0s 1ms/step - loss: 1.2282\n",
            "Epoch 9/50\n",
            "1/1 [==============================] - 0s 1ms/step - loss: 1.1429\n",
            "Epoch 10/50\n",
            "1/1 [==============================] - 0s 1ms/step - loss: 1.0644\n",
            "Epoch 11/50\n",
            "1/1 [==============================] - 0s 1ms/step - loss: 0.9904\n",
            "Epoch 12/50\n",
            "1/1 [==============================] - 0s 1ms/step - loss: 0.9211\n",
            "Epoch 13/50\n",
            "1/1 [==============================] - 0s 2ms/step - loss: 0.8578\n",
            "Epoch 14/50\n",
            "1/1 [==============================] - 0s 1ms/step - loss: 0.8010\n",
            "Epoch 15/50\n",
            "1/1 [==============================] - 0s 1ms/step - loss: 0.7466\n",
            "Epoch 16/50\n",
            "1/1 [==============================] - 0s 1ms/step - loss: 0.6981\n",
            "Epoch 17/50\n",
            "1/1 [==============================] - 0s 1ms/step - loss: 0.6525\n",
            "Epoch 18/50\n",
            "1/1 [==============================] - 0s 1ms/step - loss: 0.6110\n",
            "Epoch 19/50\n",
            "1/1 [==============================] - 0s 1ms/step - loss: 0.5734\n",
            "Epoch 20/50\n",
            "1/1 [==============================] - 0s 1ms/step - loss: 0.5368\n",
            "Epoch 21/50\n",
            "1/1 [==============================] - 0s 1ms/step - loss: 0.5018\n",
            "Epoch 22/50\n",
            "1/1 [==============================] - 0s 1ms/step - loss: 0.4735\n",
            "Epoch 23/50\n",
            "1/1 [==============================] - 0s 1ms/step - loss: 0.4440\n",
            "Epoch 24/50\n",
            "1/1 [==============================] - 0s 1ms/step - loss: 0.4199\n",
            "Epoch 25/50\n",
            "1/1 [==============================] - 0s 1ms/step - loss: 0.3954\n",
            "Epoch 26/50\n",
            "1/1 [==============================] - 0s 1ms/step - loss: 0.3731\n",
            "Epoch 27/50\n",
            "1/1 [==============================] - 0s 1ms/step - loss: 0.3516\n",
            "Epoch 28/50\n",
            "1/1 [==============================] - 0s 1ms/step - loss: 0.3330\n",
            "Epoch 29/50\n",
            "1/1 [==============================] - 0s 1ms/step - loss: 0.3146\n",
            "Epoch 30/50\n",
            "1/1 [==============================] - 0s 1ms/step - loss: 0.2971\n",
            "Epoch 31/50\n",
            "1/1 [==============================] - 0s 2ms/step - loss: 0.2802\n",
            "Epoch 32/50\n",
            "1/1 [==============================] - 0s 1ms/step - loss: 0.2674\n",
            "Epoch 33/50\n",
            "1/1 [==============================] - 0s 1ms/step - loss: 0.2541\n",
            "Epoch 34/50\n",
            "1/1 [==============================] - 0s 1ms/step - loss: 0.2405\n",
            "Epoch 35/50\n",
            "1/1 [==============================] - 0s 1ms/step - loss: 0.2291\n",
            "Epoch 36/50\n",
            "1/1 [==============================] - 0s 1ms/step - loss: 0.2164\n",
            "Epoch 37/50\n",
            "1/1 [==============================] - 0s 1ms/step - loss: 0.2055\n",
            "Epoch 38/50\n",
            "1/1 [==============================] - 0s 1ms/step - loss: 0.1974\n",
            "Epoch 39/50\n",
            "1/1 [==============================] - 0s 1ms/step - loss: 0.1884\n",
            "Epoch 40/50\n",
            "1/1 [==============================] - 0s 1ms/step - loss: 0.1796\n",
            "Epoch 41/50\n",
            "1/1 [==============================] - 0s 1ms/step - loss: 0.1718\n",
            "Epoch 42/50\n",
            "1/1 [==============================] - 0s 2ms/step - loss: 0.1637\n",
            "Epoch 43/50\n",
            "1/1 [==============================] - 0s 2ms/step - loss: 0.1562\n",
            "Epoch 44/50\n",
            "1/1 [==============================] - 0s 1ms/step - loss: 0.1491\n",
            "Epoch 45/50\n",
            "1/1 [==============================] - 0s 1ms/step - loss: 0.1437\n",
            "Epoch 46/50\n",
            "1/1 [==============================] - 0s 1ms/step - loss: 0.1371\n",
            "Epoch 47/50\n",
            "1/1 [==============================] - 0s 1ms/step - loss: 0.1312\n",
            "Epoch 48/50\n",
            "1/1 [==============================] - 0s 1ms/step - loss: 0.1255\n",
            "Epoch 49/50\n",
            "1/1 [==============================] - 0s 1ms/step - loss: 0.1210\n",
            "Epoch 50/50\n",
            "1/1 [==============================] - 0s 1ms/step - loss: 0.1164\n"
          ],
          "name": "stdout"
        }
      ]
    },
    {
      "cell_type": "code",
      "metadata": {
        "id": "E9dGOwKzeV64",
        "colab_type": "code",
        "colab": {
          "base_uri": "https://localhost:8080/",
          "height": 34
        },
        "outputId": "0e47debf-eedd-43a4-c60c-da45eb940c1e"
      },
      "source": [
        "print(history.history.keys())"
      ],
      "execution_count": null,
      "outputs": [
        {
          "output_type": "stream",
          "text": [
            "dict_keys(['loss'])\n"
          ],
          "name": "stdout"
        }
      ]
    },
    {
      "cell_type": "code",
      "metadata": {
        "id": "5ZTadRhYogM5",
        "colab_type": "code",
        "colab": {
          "base_uri": "https://localhost:8080/",
          "height": 295
        },
        "outputId": "95d41c85-93e8-404c-9889-c983a3732639"
      },
      "source": [
        "import matplotlib.pyplot as plt\n",
        "plt.plot(history.history['loss'])\n",
        "plt.ylabel('loss')\n",
        "plt.xlabel('epoch')\n",
        "plt.title('loss vs epoch')\n",
        "plt.show()"
      ],
      "execution_count": null,
      "outputs": [
        {
          "output_type": "display_data",
          "data": {
            "image/png": "[encoded data removed]",
            "text/plain": [
              "<Figure size 432x288 with 1 Axes>"
            ]
          },
          "metadata": {
            "tags": [],
            "needs_background": "light"
          }
        }
      ]
    },
    {
      "cell_type": "code",
      "metadata": {
        "id": "DZ76yhvOo4vY",
        "colab_type": "code",
        "colab": {
          "base_uri": "https://localhost:8080/",
          "height": 255
        },
        "outputId": "a6d0bcb9-5ae2-414d-92ae-6d1e530e98b7"
      },
      "source": [
        "pred_y=model(content,training=False)\n",
        "pred_y"
      ],
      "execution_count": null,
      "outputs": [
        {
          "output_type": "execute_result",
          "data": {
            "text/plain": [
              "<tf.Tensor: shape=(2708, 7), dtype=float32, numpy=\n",
              "array([[5.21955978e-10, 2.78741097e-09, 9.99978900e-01, ...,\n",
              "        5.21955978e-10, 5.44359624e-09, 1.14777645e-08],\n",
              "       [3.42759900e-02, 4.78133112e-02, 9.76497959e-03, ...,\n",
              "        9.76497959e-03, 8.63254726e-01, 2.19010543e-02],\n",
              "       [3.24802477e-06, 8.63279638e-05, 1.57162809e-04, ...,\n",
              "        9.99743521e-01, 3.24802477e-06, 3.24802477e-06],\n",
              "       ...,\n",
              "       [2.85144401e-29, 1.00000000e+00, 1.57289194e-29, ...,\n",
              "        1.57289194e-29, 1.57289194e-29, 1.19524840e-27],\n",
              "       [1.00000000e+00, 4.07557601e-19, 5.77431036e-21, ...,\n",
              "        6.57520336e-21, 5.77431036e-21, 4.95059486e-20],\n",
              "       [7.23269751e-13, 7.23269751e-13, 1.00000000e+00, ...,\n",
              "        7.94205240e-12, 2.68186862e-10, 7.23269697e-13]], dtype=float32)>"
            ]
          },
          "metadata": {
            "tags": []
          },
          "execution_count": 21
        }
      ]
    },
    {
      "cell_type": "code",
      "metadata": {
        "id": "jsCBKywxpYEN",
        "colab_type": "code",
        "colab": {
          "base_uri": "https://localhost:8080/",
          "height": 136
        },
        "outputId": "d7f52691-11ff-4e94-9722-9e2b681fe98f"
      },
      "source": [
        "\n",
        "idx = np.argmax(pred_y, axis=-1)\n",
        "a = np.zeros( pred_y.shape )\n",
        "a[ np.arange(a.shape[0]), idx] = 1\n",
        "\n",
        "print(a)"
      ],
      "execution_count": null,
      "outputs": [
        {
          "output_type": "stream",
          "text": [
            "[[0. 0. 1. ... 0. 0. 0.]\n",
            " [0. 0. 0. ... 0. 1. 0.]\n",
            " [0. 0. 0. ... 1. 0. 0.]\n",
            " ...\n",
            " [0. 1. 0. ... 0. 0. 0.]\n",
            " [1. 0. 0. ... 0. 0. 0.]\n",
            " [0. 0. 1. ... 0. 0. 0.]]\n"
          ],
          "name": "stdout"
        }
      ]
    },
    {
      "cell_type": "code",
      "metadata": {
        "id": "SSWJ3rI2rxxc",
        "colab_type": "code",
        "colab": {
          "base_uri": "https://localhost:8080/",
          "height": 34
        },
        "outputId": "ac8071e5-e567-4b97-dbf3-c31bfbeaca2f"
      },
      "source": [
        "count=0\n",
        "for i in range(a.shape[0]):\n",
        "  if list(a[i])==list(one_hot.iloc[i]):\n",
        "    count+=1\n",
        "\n",
        "print(\"training accuracy is \" + str(count/a.shape[0]) )\n"
      ],
      "execution_count": null,
      "outputs": [
        {
          "output_type": "stream",
          "text": [
            "training accuracy is 0.9855982274741507\n"
          ],
          "name": "stdout"
        }
      ]
    },
    {
      "cell_type": "code",
      "metadata": {
        "id": "_MT0i7XUtpH2",
        "colab_type": "code",
        "colab": {}
      },
      "source": [
        ""
      ],
      "execution_count": null,
      "outputs": []
    }
  ]
}